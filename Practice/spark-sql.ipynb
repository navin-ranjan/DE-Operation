{
 "cells": [
  {
   "cell_type": "code",
   "execution_count": 1,
   "metadata": {},
   "outputs": [],
   "source": [
    "from pyspark.sql import SparkSession"
   ]
  },
  {
   "cell_type": "code",
   "execution_count": 2,
   "metadata": {},
   "outputs": [
    {
     "name": "stderr",
     "output_type": "stream",
     "text": [
      "23/10/08 15:01:42 WARN Utils: Your hostname, rohan-NS14A8 resolves to a loopback address: 127.0.1.1; using 192.168.193.194 instead (on interface wlp1s0)\n",
      "23/10/08 15:01:42 WARN Utils: Set SPARK_LOCAL_IP if you need to bind to another address\n",
      "Setting default log level to \"WARN\".\n",
      "To adjust logging level use sc.setLogLevel(newLevel). For SparkR, use setLogLevel(newLevel).\n",
      "23/10/08 15:01:43 WARN NativeCodeLoader: Unable to load native-hadoop library for your platform... using builtin-java classes where applicable\n",
      "23/10/08 15:01:44 WARN Utils: Service 'SparkUI' could not bind on port 4040. Attempting port 4041.\n"
     ]
    }
   ],
   "source": [
    "spark=SparkSession.builder.getOrCreate()"
   ]
  },
  {
   "cell_type": "code",
   "execution_count": 3,
   "metadata": {},
   "outputs": [
    {
     "name": "stderr",
     "output_type": "stream",
     "text": [
      "                                                                                \r"
     ]
    }
   ],
   "source": [
    "df2=spark.read.csv('/home/rohan/Desktop/DE-Operation/csv-files/student_data.csv', header=True, inferSchema=True)"
   ]
  },
  {
   "cell_type": "code",
   "execution_count": 4,
   "metadata": {},
   "outputs": [
    {
     "name": "stdout",
     "output_type": "stream",
     "text": [
      "+----------+------------+-------------+--------------------+-----------------+---------------------------+----------------+----------------+------+----------------+\n",
      "|Student ID|Student Name|Date of Birth|      Field of Study|Year of Admission|Expected Year of Graduation|Current Semester|  Specialization|  Fees|Discount on Fees|\n",
      "+----------+------------+-------------+--------------------+-----------------+---------------------------+----------------+----------------+------+----------------+\n",
      "|    165527|Bryan Rogers|   2006-01-19|    Computer Science|             2020|                       2017|               3| Web Development|155152|           19572|\n",
      "|    635763| James Hogan|   1999-05-23|Mechanical Engine...|             2020|                       2020|               2|Machine Learning|157870|           14760|\n",
      "+----------+------------+-------------+--------------------+-----------------+---------------------------+----------------+----------------+------+----------------+\n",
      "only showing top 2 rows\n",
      "\n"
     ]
    }
   ],
   "source": [
    "df2.show(2)"
   ]
  },
  {
   "cell_type": "code",
   "execution_count": 5,
   "metadata": {},
   "outputs": [],
   "source": [
    "df2.createTempView('student_tb')"
   ]
  },
  {
   "cell_type": "code",
   "execution_count": 6,
   "metadata": {},
   "outputs": [
    {
     "name": "stdout",
     "output_type": "stream",
     "text": [
      "+----------+------------+-------------+--------------------+-----------------+---------------------------+----------------+----------------+------+----------------+\n",
      "|Student ID|Student Name|Date of Birth|      Field of Study|Year of Admission|Expected Year of Graduation|Current Semester|  Specialization|  Fees|Discount on Fees|\n",
      "+----------+------------+-------------+--------------------+-----------------+---------------------------+----------------+----------------+------+----------------+\n",
      "|    165527|Bryan Rogers|   2006-01-19|    Computer Science|             2020|                       2017|               3| Web Development|155152|           19572|\n",
      "|    635763| James Hogan|   1999-05-23|Mechanical Engine...|             2020|                       2020|               2|Machine Learning|157870|           14760|\n",
      "+----------+------------+-------------+--------------------+-----------------+---------------------------+----------------+----------------+------+----------------+\n",
      "\n"
     ]
    }
   ],
   "source": [
    "res=spark.sql(\"select * from student_tb limit 2\")\n",
    "res.show()"
   ]
  },
  {
   "cell_type": "code",
   "execution_count": null,
   "metadata": {},
   "outputs": [],
   "source": [
    "spark.stop()"
   ]
  }
 ],
 "metadata": {
  "kernelspec": {
   "display_name": "Python 3",
   "language": "python",
   "name": "python3"
  },
  "language_info": {
   "codemirror_mode": {
    "name": "ipython",
    "version": 3
   },
   "file_extension": ".py",
   "mimetype": "text/x-python",
   "name": "python",
   "nbconvert_exporter": "python",
   "pygments_lexer": "ipython3",
   "version": "3.10.12"
  }
 },
 "nbformat": 4,
 "nbformat_minor": 2
}
