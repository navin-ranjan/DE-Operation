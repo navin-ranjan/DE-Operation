{
 "cells": [
  {
   "cell_type": "code",
   "execution_count": 13,
   "metadata": {},
   "outputs": [],
   "source": [
    "from pyspark.sql import SparkSession"
   ]
  },
  {
   "cell_type": "markdown",
   "metadata": {},
   "source": [
    "Data Frame create\n",
    "\n",
    "#option1"
   ]
  },
  {
   "cell_type": "code",
   "execution_count": 14,
   "metadata": {},
   "outputs": [
    {
     "name": "stderr",
     "output_type": "stream",
     "text": [
      "                                                                                \r"
     ]
    }
   ],
   "source": [
    "spark=SparkSession.builder.getOrCreate()\n",
    "\n",
    "fir_df=spark.read.format('csv') \\\n",
    "            .option(\"header\",\"true\") \\\n",
    "            .option(\"inferSchema\",\"true\") \\\n",
    "            .load(\"/home/rohan/Desktop/DE-Operation/csv-files/student_data.csv\")"
   ]
  },
  {
   "cell_type": "code",
   "execution_count": 15,
   "metadata": {},
   "outputs": [
    {
     "name": "stdout",
     "output_type": "stream",
     "text": [
      "+----------+------------+-------------+--------------------+-----------------+---------------------------+----------------+----------------+------+----------------+\n",
      "|Student ID|Student Name|Date of Birth|      Field of Study|Year of Admission|Expected Year of Graduation|Current Semester|  Specialization|  Fees|Discount on Fees|\n",
      "+----------+------------+-------------+--------------------+-----------------+---------------------------+----------------+----------------+------+----------------+\n",
      "|    165527|Bryan Rogers|   2006-01-19|    Computer Science|             2020|                       2017|               3| Web Development|155152|           19572|\n",
      "|    635763| James Hogan|   1999-05-23|Mechanical Engine...|             2020|                       2020|               2|Machine Learning|157870|           14760|\n",
      "+----------+------------+-------------+--------------------+-----------------+---------------------------+----------------+----------------+------+----------------+\n",
      "only showing top 2 rows\n",
      "\n"
     ]
    }
   ],
   "source": [
    "fir_df.show(2)"
   ]
  },
  {
   "cell_type": "markdown",
   "metadata": {},
   "source": [
    "#option2"
   ]
  },
  {
   "cell_type": "code",
   "execution_count": 16,
   "metadata": {},
   "outputs": [],
   "source": [
    "df2=spark.read.csv('/home/rohan/Desktop/DE-Operation/csv-files/student_data.csv', header=True, inferSchema=True)"
   ]
  },
  {
   "cell_type": "code",
   "execution_count": 17,
   "metadata": {},
   "outputs": [
    {
     "name": "stdout",
     "output_type": "stream",
     "text": [
      "+----------+---------------+-------------+--------------------+-----------------+---------------------------+----------------+----------------+------+----------------+\n",
      "|Student ID|   Student Name|Date of Birth|      Field of Study|Year of Admission|Expected Year of Graduation|Current Semester|  Specialization|  Fees|Discount on Fees|\n",
      "+----------+---------------+-------------+--------------------+-----------------+---------------------------+----------------+----------------+------+----------------+\n",
      "|    165527|   Bryan Rogers|   2006-01-19|    Computer Science|             2020|                       2017|               3| Web Development|155152|           19572|\n",
      "|    635763|    James Hogan|   1999-05-23|Mechanical Engine...|             2020|                       2020|               2|Machine Learning|157870|           14760|\n",
      "|    740021| David Robinson|   1997-12-02|   Civil Engineering|             2017|                       2022|               1|Network Security| 55662|            5871|\n",
      "|    433076|   Susan Miller|   1999-10-30|    Computer Science|             2021|                       2019|               1|    Data Science|134955|           17284|\n",
      "|    441628|Brittany Martin|   1998-01-10|Chemical Engineering|             2016|                       2018|               1|Network Security|125934|           14871|\n",
      "+----------+---------------+-------------+--------------------+-----------------+---------------------------+----------------+----------------+------+----------------+\n",
      "only showing top 5 rows\n",
      "\n"
     ]
    }
   ],
   "source": [
    "df2.show(5)"
   ]
  },
  {
   "cell_type": "code",
   "execution_count": 18,
   "metadata": {},
   "outputs": [],
   "source": [
    "#df2.count()\n",
    "rdd =df2.toJSON()\n"
   ]
  },
  {
   "cell_type": "code",
   "execution_count": 19,
   "metadata": {},
   "outputs": [
    {
     "data": {
      "text/plain": [
       "DataFrame[Student ID: int, Student Name: string, Date of Birth: date, Field of Study: string, Year of Admission: int, Expected Year of Graduation: int, Current Semester: int, Specialization: string, Fees: int, Discount on Fees: int]"
      ]
     },
     "metadata": {},
     "output_type": "display_data"
    }
   ],
   "source": [
    "display(df2)"
   ]
  },
  {
   "cell_type": "code",
   "execution_count": 21,
   "metadata": {},
   "outputs": [],
   "source": [
    "fir_df.createGlobalTempView(\"student2\")"
   ]
  },
  {
   "cell_type": "code",
   "execution_count": 25,
   "metadata": {},
   "outputs": [
    {
     "name": "stdout",
     "output_type": "stream",
     "text": [
      "+----------+------------+-------------+--------------------+-----------------+---------------------------+----------------+----------------+------+----------------+\n",
      "|Student ID|Student Name|Date of Birth|      Field of Study|Year of Admission|Expected Year of Graduation|Current Semester|  Specialization|  Fees|Discount on Fees|\n",
      "+----------+------------+-------------+--------------------+-----------------+---------------------------+----------------+----------------+------+----------------+\n",
      "|    165527|Bryan Rogers|   2006-01-19|    Computer Science|             2020|                       2017|               3| Web Development|155152|           19572|\n",
      "|    635763| James Hogan|   1999-05-23|Mechanical Engine...|             2020|                       2020|               2|Machine Learning|157870|           14760|\n",
      "+----------+------------+-------------+--------------------+-----------------+---------------------------+----------------+----------------+------+----------------+\n",
      "\n"
     ]
    }
   ],
   "source": [
    "res=spark.sql(\"select * from global_temp.student2 limit 2\")\n",
    "res.show()"
   ]
  },
  {
   "cell_type": "code",
   "execution_count": 26,
   "metadata": {},
   "outputs": [],
   "source": [
    "spark.stop()"
   ]
  }
 ],
 "metadata": {
  "kernelspec": {
   "display_name": "my-env",
   "language": "python",
   "name": "python3"
  },
  "language_info": {
   "codemirror_mode": {
    "name": "ipython",
    "version": 3
   },
   "file_extension": ".py",
   "mimetype": "text/x-python",
   "name": "python",
   "nbconvert_exporter": "python",
   "pygments_lexer": "ipython3",
   "version": "3.10.12"
  },
  "orig_nbformat": 4
 },
 "nbformat": 4,
 "nbformat_minor": 2
}
