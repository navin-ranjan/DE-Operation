{
 "cells": [
  {
   "cell_type": "code",
   "execution_count": 1,
   "metadata": {},
   "outputs": [],
   "source": [
    "from pyspark.sql import SparkSession"
   ]
  },
  {
   "cell_type": "markdown",
   "metadata": {},
   "source": [
    "Data Frame create\n",
    "\n",
    "#option1"
   ]
  },
  {
   "cell_type": "code",
   "execution_count": 2,
   "metadata": {},
   "outputs": [
    {
     "name": "stderr",
     "output_type": "stream",
     "text": [
      "23/09/28 00:41:54 WARN Utils: Your hostname, rohan-NS14A8 resolves to a loopback address: 127.0.1.1; using 192.168.93.194 instead (on interface wlp1s0)\n",
      "23/09/28 00:41:54 WARN Utils: Set SPARK_LOCAL_IP if you need to bind to another address\n",
      "Setting default log level to \"WARN\".\n",
      "To adjust logging level use sc.setLogLevel(newLevel). For SparkR, use setLogLevel(newLevel).\n",
      "23/09/28 00:41:55 WARN NativeCodeLoader: Unable to load native-hadoop library for your platform... using builtin-java classes where applicable\n",
      "                                                                                \r"
     ]
    }
   ],
   "source": [
    "spark=SparkSession.builder.getOrCreate()\n",
    "\n",
    "fir_df=spark.read.format('csv') \\\n",
    "            .option(\"header\",\"true\") \\\n",
    "            .option(\"inferSchema\",\"true\") \\\n",
    "            .load(\"/home/rohan/Desktop/DE-Operation/csv-files/student_data.csv\")"
   ]
  },
  {
   "cell_type": "code",
   "execution_count": 3,
   "metadata": {},
   "outputs": [
    {
     "name": "stdout",
     "output_type": "stream",
     "text": [
      "+----------+------------+-------------+--------------------+-----------------+---------------------------+----------------+----------------+------+----------------+\n",
      "|Student ID|Student Name|Date of Birth|      Field of Study|Year of Admission|Expected Year of Graduation|Current Semester|  Specialization|  Fees|Discount on Fees|\n",
      "+----------+------------+-------------+--------------------+-----------------+---------------------------+----------------+----------------+------+----------------+\n",
      "|    165527|Bryan Rogers|   2006-01-19|    Computer Science|             2020|                       2017|               3| Web Development|155152|           19572|\n",
      "|    635763| James Hogan|   1999-05-23|Mechanical Engine...|             2020|                       2020|               2|Machine Learning|157870|           14760|\n",
      "+----------+------------+-------------+--------------------+-----------------+---------------------------+----------------+----------------+------+----------------+\n",
      "only showing top 2 rows\n",
      "\n"
     ]
    }
   ],
   "source": [
    "fir_df.show(2)"
   ]
  },
  {
   "cell_type": "markdown",
   "metadata": {},
   "source": [
    "#option2"
   ]
  },
  {
   "cell_type": "code",
   "execution_count": 4,
   "metadata": {},
   "outputs": [
    {
     "name": "stderr",
     "output_type": "stream",
     "text": [
      "                                                                                \r"
     ]
    }
   ],
   "source": [
    "df2=spark.read.csv('/home/rohan/Desktop/DE-Operation/csv-files/student_data.csv', header=True, inferSchema=True)"
   ]
  },
  {
   "cell_type": "code",
   "execution_count": 5,
   "metadata": {},
   "outputs": [
    {
     "name": "stdout",
     "output_type": "stream",
     "text": [
      "+----------+---------------+-------------+--------------------+-----------------+---------------------------+----------------+----------------+------+----------------+\n",
      "|Student ID|   Student Name|Date of Birth|      Field of Study|Year of Admission|Expected Year of Graduation|Current Semester|  Specialization|  Fees|Discount on Fees|\n",
      "+----------+---------------+-------------+--------------------+-----------------+---------------------------+----------------+----------------+------+----------------+\n",
      "|    165527|   Bryan Rogers|   2006-01-19|    Computer Science|             2020|                       2017|               3| Web Development|155152|           19572|\n",
      "|    635763|    James Hogan|   1999-05-23|Mechanical Engine...|             2020|                       2020|               2|Machine Learning|157870|           14760|\n",
      "|    740021| David Robinson|   1997-12-02|   Civil Engineering|             2017|                       2022|               1|Network Security| 55662|            5871|\n",
      "|    433076|   Susan Miller|   1999-10-30|    Computer Science|             2021|                       2019|               1|    Data Science|134955|           17284|\n",
      "|    441628|Brittany Martin|   1998-01-10|Chemical Engineering|             2016|                       2018|               1|Network Security|125934|           14871|\n",
      "+----------+---------------+-------------+--------------------+-----------------+---------------------------+----------------+----------------+------+----------------+\n",
      "only showing top 5 rows\n",
      "\n"
     ]
    }
   ],
   "source": [
    "df2.show(5)"
   ]
  },
  {
   "cell_type": "code",
   "execution_count": null,
   "metadata": {},
   "outputs": [],
   "source": [
    "#df2.count()\n",
    "rdd =df2.toJSON()\n"
   ]
  },
  {
   "cell_type": "code",
   "execution_count": 14,
   "metadata": {},
   "outputs": [
    {
     "data": {
      "text/plain": [
       "DataFrame[Student ID: int, Student Name: string, Date of Birth: date, Field of Study: string, Year of Admission: int, Expected Year of Graduation: int, Current Semester: int, Specialization: string, Fees: int, Discount on Fees: int]"
      ]
     },
     "metadata": {},
     "output_type": "display_data"
    }
   ],
   "source": [
    "display(df2)"
   ]
  },
  {
   "cell_type": "code",
   "execution_count": 10,
   "metadata": {},
   "outputs": [],
   "source": [
    "fir_df.createGlobalTempView(\"student1\")"
   ]
  },
  {
   "cell_type": "code",
   "execution_count": null,
   "metadata": {},
   "outputs": [],
   "source": []
  }
 ],
 "metadata": {
  "kernelspec": {
   "display_name": "my-env",
   "language": "python",
   "name": "python3"
  },
  "language_info": {
   "codemirror_mode": {
    "name": "ipython",
    "version": 3
   },
   "file_extension": ".py",
   "mimetype": "text/x-python",
   "name": "python",
   "nbconvert_exporter": "python",
   "pygments_lexer": "ipython3",
   "version": "3.10.12"
  },
  "orig_nbformat": 4
 },
 "nbformat": 4,
 "nbformat_minor": 2
}
