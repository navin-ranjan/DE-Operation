{
 "cells": [
  {
   "cell_type": "code",
   "execution_count": 11,
   "metadata": {},
   "outputs": [],
   "source": [
    "from pyspark.sql import SparkSession\n",
    "from pyspark.sql.functions import col"
   ]
  },
  {
   "cell_type": "code",
   "execution_count": 2,
   "metadata": {},
   "outputs": [
    {
     "name": "stderr",
     "output_type": "stream",
     "text": [
      "23/10/08 18:35:09 WARN Utils: Your hostname, rohan-NS14A8 resolves to a loopback address: 127.0.1.1; using 192.168.193.194 instead (on interface wlp1s0)\n",
      "23/10/08 18:35:09 WARN Utils: Set SPARK_LOCAL_IP if you need to bind to another address\n",
      "Setting default log level to \"WARN\".\n",
      "To adjust logging level use sc.setLogLevel(newLevel). For SparkR, use setLogLevel(newLevel).\n",
      "23/10/08 18:35:10 WARN NativeCodeLoader: Unable to load native-hadoop library for your platform... using builtin-java classes where applicable\n"
     ]
    }
   ],
   "source": [
    "spark=SparkSession.builder.getOrCreate()"
   ]
  },
  {
   "cell_type": "code",
   "execution_count": 3,
   "metadata": {},
   "outputs": [
    {
     "name": "stderr",
     "output_type": "stream",
     "text": [
      "                                                                                \r"
     ]
    }
   ],
   "source": [
    "df=spark.read.csv('/home/rohan/Desktop/DE-Operation/csv-files/student_data.csv', header=True, inferSchema=True)"
   ]
  },
  {
   "cell_type": "code",
   "execution_count": 4,
   "metadata": {},
   "outputs": [
    {
     "name": "stdout",
     "output_type": "stream",
     "text": [
      "+----------+--------------+-------------+--------------------+-----------------+---------------------------+----------------+----------------+------+----------------+\n",
      "|Student ID|  Student Name|Date of Birth|      Field of Study|Year of Admission|Expected Year of Graduation|Current Semester|  Specialization|  Fees|Discount on Fees|\n",
      "+----------+--------------+-------------+--------------------+-----------------+---------------------------+----------------+----------------+------+----------------+\n",
      "|    165527|  Bryan Rogers|   2006-01-19|    Computer Science|             2020|                       2017|               3| Web Development|155152|           19572|\n",
      "|    635763|   James Hogan|   1999-05-23|Mechanical Engine...|             2020|                       2020|               2|Machine Learning|157870|           14760|\n",
      "|    740021|David Robinson|   1997-12-02|   Civil Engineering|             2017|                       2022|               1|Network Security| 55662|            5871|\n",
      "+----------+--------------+-------------+--------------------+-----------------+---------------------------+----------------+----------------+------+----------------+\n",
      "only showing top 3 rows\n",
      "\n"
     ]
    }
   ],
   "source": [
    "df.show(3)"
   ]
  },
  {
   "cell_type": "markdown",
   "metadata": {},
   "source": [
    "* Here is One Problem of blank space in columns"
   ]
  },
  {
   "cell_type": "code",
   "execution_count": 7,
   "metadata": {},
   "outputs": [],
   "source": [
    "df1=df.withColumnRenamed(\"Student ID\",\"StudentID\")"
   ]
  },
  {
   "cell_type": "markdown",
   "metadata": {},
   "source": [
    "--> let's fixed its problem.\n"
   ]
  },
  {
   "cell_type": "code",
   "execution_count": 8,
   "metadata": {},
   "outputs": [
    {
     "name": "stdout",
     "output_type": "stream",
     "text": [
      "+---------+------------+-------------+--------------------+-----------------+---------------------------+----------------+----------------+------+----------------+\n",
      "|StudentID|Student Name|Date of Birth|      Field of Study|Year of Admission|Expected Year of Graduation|Current Semester|  Specialization|  Fees|Discount on Fees|\n",
      "+---------+------------+-------------+--------------------+-----------------+---------------------------+----------------+----------------+------+----------------+\n",
      "|   165527|Bryan Rogers|   2006-01-19|    Computer Science|             2020|                       2017|               3| Web Development|155152|           19572|\n",
      "|   635763| James Hogan|   1999-05-23|Mechanical Engine...|             2020|                       2020|               2|Machine Learning|157870|           14760|\n",
      "+---------+------------+-------------+--------------------+-----------------+---------------------------+----------------+----------------+------+----------------+\n",
      "only showing top 2 rows\n",
      "\n"
     ]
    }
   ],
   "source": [
    "df1.show(2)"
   ]
  },
  {
   "cell_type": "code",
   "execution_count": 9,
   "metadata": {},
   "outputs": [
    {
     "name": "stdout",
     "output_type": "stream",
     "text": [
      "root\n",
      " |-- Student ID: integer (nullable = true)\n",
      " |-- Student Name: string (nullable = true)\n",
      " |-- Date of Birth: date (nullable = true)\n",
      " |-- Field of Study: string (nullable = true)\n",
      " |-- Year of Admission: integer (nullable = true)\n",
      " |-- Expected Year of Graduation: integer (nullable = true)\n",
      " |-- Current Semester: integer (nullable = true)\n",
      " |-- Specialization: string (nullable = true)\n",
      " |-- Fees: integer (nullable = true)\n",
      " |-- Discount on Fees: integer (nullable = true)\n",
      "\n"
     ]
    }
   ],
   "source": [
    "df.printSchema()"
   ]
  },
  {
   "cell_type": "markdown",
   "metadata": {},
   "source": [
    "* I have also changed column data type (Transform)"
   ]
  },
  {
   "cell_type": "code",
   "execution_count": 14,
   "metadata": {},
   "outputs": [],
   "source": [
    "df=df.withColumn(\"Student ID\", col(\"Student ID\").cast('String'))"
   ]
  },
  {
   "cell_type": "code",
   "execution_count": 15,
   "metadata": {},
   "outputs": [
    {
     "name": "stdout",
     "output_type": "stream",
     "text": [
      "root\n",
      " |-- Student ID: string (nullable = true)\n",
      " |-- Student Name: string (nullable = true)\n",
      " |-- Date of Birth: date (nullable = true)\n",
      " |-- Field of Study: string (nullable = true)\n",
      " |-- Year of Admission: integer (nullable = true)\n",
      " |-- Expected Year of Graduation: integer (nullable = true)\n",
      " |-- Current Semester: integer (nullable = true)\n",
      " |-- Specialization: string (nullable = true)\n",
      " |-- Fees: integer (nullable = true)\n",
      " |-- Discount on Fees: integer (nullable = true)\n",
      "\n"
     ]
    }
   ],
   "source": [
    "df.printSchema()"
   ]
  }
 ],
 "metadata": {
  "kernelspec": {
   "display_name": "Python 3",
   "language": "python",
   "name": "python3"
  },
  "language_info": {
   "codemirror_mode": {
    "name": "ipython",
    "version": 3
   },
   "file_extension": ".py",
   "mimetype": "text/x-python",
   "name": "python",
   "nbconvert_exporter": "python",
   "pygments_lexer": "ipython3",
   "version": "3.10.12"
  }
 },
 "nbformat": 4,
 "nbformat_minor": 2
}
