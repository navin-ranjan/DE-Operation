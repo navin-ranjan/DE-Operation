{
 "cells": [
  {
   "cell_type": "code",
   "execution_count": 1,
   "metadata": {},
   "outputs": [],
   "source": [
    "sales =[10,20,30,50]\n",
    "\n",
    "city =['patna','bhopal','indore', 'gaya']\n",
    "\n",
    "score = [20, 85, 50, None, 'Absent', 76]"
   ]
  },
  {
   "cell_type": "code",
   "execution_count": 2,
   "metadata": {},
   "outputs": [
    {
     "name": "stdout",
     "output_type": "stream",
     "text": [
      "5\n",
      "6\n",
      "6\n",
      "4\n"
     ]
    }
   ],
   "source": [
    "#len pring every string\n",
    "\n",
    "for ct in city:\n",
    "    print(len(ct))"
   ]
  },
  {
   "cell_type": "code",
   "execution_count": 3,
   "metadata": {},
   "outputs": [
    {
     "name": "stdout",
     "output_type": "stream",
     "text": [
      "Length of city patna is 5\n",
      "Length of city bhopal is 6\n",
      "Length of city indore is 6\n",
      "Length of city gaya is 4\n"
     ]
    }
   ],
   "source": [
    "for ct in city:\n",
    "    print(f'Length of city {ct} is {len(ct)}')"
   ]
  },
  {
   "cell_type": "code",
   "execution_count": 4,
   "metadata": {},
   "outputs": [
    {
     "data": {
      "text/plain": [
       "[20, 85, 50, None, 'Absent', 76]"
      ]
     },
     "execution_count": 4,
     "metadata": {},
     "output_type": "execute_result"
    }
   ],
   "source": [
    "score"
   ]
  },
  {
   "cell_type": "code",
   "execution_count": 5,
   "metadata": {},
   "outputs": [
    {
     "name": "stdout",
     "output_type": "stream",
     "text": [
      "20\n",
      "85\n",
      "50\n",
      "None\n",
      "Absent\n",
      "76\n"
     ]
    }
   ],
   "source": [
    "for s in score:\n",
    "    print(s)"
   ]
  },
  {
   "cell_type": "code",
   "execution_count": 10,
   "metadata": {},
   "outputs": [
    {
     "name": "stdout",
     "output_type": "stream",
     "text": [
      "20\n",
      "85\n",
      "50\n",
      "76\n",
      "231\n"
     ]
    }
   ],
   "source": [
    "total=0\n",
    "for s in score:\n",
    "    if type(s)==int:\n",
    "        print(s)\n",
    "        total+=s\n",
    "\n",
    "print(total)"
   ]
  }
 ],
 "metadata": {
  "kernelspec": {
   "display_name": "pr-venv",
   "language": "python",
   "name": "python3"
  },
  "language_info": {
   "codemirror_mode": {
    "name": "ipython",
    "version": 3
   },
   "file_extension": ".py",
   "mimetype": "text/x-python",
   "name": "python",
   "nbconvert_exporter": "python",
   "pygments_lexer": "ipython3",
   "version": "3.10.12"
  },
  "orig_nbformat": 4
 },
 "nbformat": 4,
 "nbformat_minor": 2
}
